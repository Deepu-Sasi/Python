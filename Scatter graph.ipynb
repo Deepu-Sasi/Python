{
 "cells": [
  {
   "cell_type": "code",
   "execution_count": 1,
   "id": "53600623",
   "metadata": {},
   "outputs": [
    {
     "data": {
      "text/plain": [
       "Text(0, 0.5, 'students')"
      ]
     },
     "execution_count": 1,
     "metadata": {},
     "output_type": "execute_result"
    },
    {
     "data": {
      "image/png": "[encoded data removed]",
      "text/plain": [
       "<Figure size 432x288 with 1 Axes>"
      ]
     },
     "metadata": {
      "needs_background": "light"
     },
     "output_type": "display_data"
    }
   ],
   "source": [
    "import matplotlib.pyplot as plt\n",
    "fig=plt.figure()\n",
    "langs=['c','c++','java','Python','PHP']\n",
    "students = [23,17,35,29,12]\n",
    "ax=fig.add_axes([0,0,1,1])\n",
    "ax.scatter(langs,students, color='r')\n",
    "ax.set_xlabel('langs')\n",
    "ax.set_ylabel('students')\n"
   ]
  },
  {
   "cell_type": "code",
   "execution_count": null,
   "id": "24de71fd",
   "metadata": {},
   "outputs": [],
   "source": []
  }
 ],
 "metadata": {
  "kernelspec": {
   "display_name": "Python 3 (ipykernel)",
   "language": "python",
   "name": "python3"
  },
  "language_info": {
   "codemirror_mode": {
    "name": "ipython",
    "version": 3
   },
   "file_extension": ".py",
   "mimetype": "text/x-python",
   "name": "python",
   "nbconvert_exporter": "python",
   "pygments_lexer": "ipython3",
   "version": "3.9.12"
  }
 },
 "nbformat": 4,
 "nbformat_minor": 5
}
