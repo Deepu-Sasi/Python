{
 "cells": [
  {
   "cell_type": "code",
   "execution_count": 1,
   "id": "69f42ff3",
   "metadata": {},
   "outputs": [
    {
     "name": "stdout",
     "output_type": "stream",
     "text": [
      "Enter the number :5\n",
      "factorial : 120\n"
     ]
    }
   ],
   "source": [
    "a=int(input(\"Enter the number :\"))\n",
    "if a > 0:\n",
    "    f=1\n",
    "    for i in range (1,a+1):\n",
    "        f=f*i\n",
    "        i=i+1\n",
    "    print(\"factorial : \"+str(f))\n",
    "elif a==0:\n",
    "    f=1\n",
    "else:\n",
    "    print(\"Please enter a postive number\")\n",
    "    \n"
   ]
  },
  {
   "cell_type": "code",
   "execution_count": null,
   "id": "7349e922",
   "metadata": {},
   "outputs": [],
   "source": []
  }
 ],
 "metadata": {
  "kernelspec": {
   "display_name": "Python 3 (ipykernel)",
   "language": "python",
   "name": "python3"
  },
  "language_info": {
   "codemirror_mode": {
    "name": "ipython",
    "version": 3
   },
   "file_extension": ".py",
   "mimetype": "text/x-python",
   "name": "python",
   "nbconvert_exporter": "python",
   "pygments_lexer": "ipython3",
   "version": "3.9.12"
  }
 },
 "nbformat": 4,
 "nbformat_minor": 5
}
